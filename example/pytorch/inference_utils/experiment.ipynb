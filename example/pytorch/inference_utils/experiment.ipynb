{
 "nbformat": 4,
 "nbformat_minor": 2,
 "metadata": {
  "language_info": {
   "name": "python",
   "codemirror_mode": {
    "name": "ipython",
    "version": 3
   },
   "version": "2.7.12"
  },
  "orig_nbformat": 2,
  "file_extension": ".py",
  "mimetype": "text/x-python",
  "name": "python",
  "npconvert_exporter": "python",
  "pygments_lexer": "ipython3",
  "version": 3
 },
 "cells": [
  {
   "cell_type": "markdown",
   "execution_count": null,
   "metadata": {},
   "outputs": [],
   "source": [
    "# Thread Experiment"
   ]
  },
  {
   "cell_type": "code",
   "execution_count": 8,
   "metadata": {},
   "outputs": [
    {
     "name": "stdout",
     "output_type": "stream",
     "text": "('x =', 10)\n('x =', 10)\n('x =', 10)\n('x =', 5)\n('x =', 5)\n('x =', 5)\n('x =', 5)\n('x =', 5)\n('x =', 5)\n('x =', 5)\n('x =', 5)\n('x =', 5)\n('x =', 5)\n('x =', 5)\n('x =', 5)\n('x =', 5)before changing x to 10\n\nchanged x to 10\n('x =', 10)\n('x =', 10)\n('x =', 10)\n ('x =', 10)\n('x =', 10)\n('x =', 10)\n('x =', 10)\n('x =', 10)\n('x =', 10)('x =', 10)\n\n('x =', 10)\n('x =', 10)\nwaited long enough\n"
    }
   ],
   "source": [
    "import threading\n",
    "import time\n",
    "\n",
    "x = 5\n",
    "\n",
    "def print_x():\n",
    "    while True:\n",
    "        print(\"x =\", x)\n",
    "        time.sleep(1)  # sleep for 1 sec\n",
    "\n",
    "server = threading.Thread(target=print_x)\n",
    "# common error of using server.run will block the main thread\n",
    "server.start()\n",
    "time.sleep(2)\n",
    "print(\"before changing x to 10\")\n",
    "x = 10\n",
    "print(\"changed x to 10\")\n",
    "time.sleep(2)\n",
    "print \"waited long enough\"\n",
    "# should have printed x = 10 before exit\n",
    "# once main thread exits, the child thread should die as well"
   ]
  },
  {
   "cell_type": "markdown",
   "execution_count": 3,
   "metadata": {},
   "outputs": [],
   "source": [
    "# Experiment about multi-thread socket server"
   ]
  },
  {
   "cell_type": "code",
   "execution_count": 14,
   "metadata": {},
   "outputs": [],
   "source": [
    "import socket\n",
    "import threading\n",
    "import SocketServer\n",
    "\n",
    "# Thread Server\n",
    "n_clients_connected = 0\n",
    "class ThreadedTCPRequestHandler(SocketServer.BaseRequestHandler):\n",
    "\n",
    "    def handle(self):\n",
    "        data = self.request.recv(1024)\n",
    "        cur_thread = threading.current_thread()\n",
    "        response = \"{}: {}\".format(cur_thread.name, data)\n",
    "        self.request.sendall(response)\n",
    "\n",
    "        # testing using n_clients globally\n",
    "        global n_clients_connected\n",
    "        n_clients_connected += 1\n",
    "        print(\"n clients connected\", n_clients_connected)\n",
    "\n",
    "class ThreadedTCPServer(SocketServer.ThreadingMixIn, SocketServer.TCPServer):\n",
    "    pass"
   ]
  },
  {
   "cell_type": "code",
   "execution_count": 15,
   "metadata": {},
   "outputs": [],
   "source": [
    "def client(ip, port, message):\n",
    "    sock = socket.socket(socket.AF_INET, socket.SOCK_STREAM)\n",
    "    sock.connect((ip, port))\n",
    "    try:\n",
    "        sock.sendall(message)\n",
    "        response = sock.recv(1024)\n",
    "        print \"Received: {}\".format(response)\n",
    "    finally:\n",
    "        sock.close()"
   ]
  },
  {
   "cell_type": "code",
   "execution_count": 20,
   "metadata": {},
   "outputs": [
    {
     "name": "stdout",
     "output_type": "stream",
     "text": "Server loop running in thread: Thread-36\nReceived: Thread-39: Hello World 1('n clients connected', 11)\n\nReceived: Thread-41: Hello World 2('n clients connected', 12)\n('n clients connected', 13)\n\nReceived: Thread-42: Hello World 3\n"
    }
   ],
   "source": [
    " # Port 0 means to select an arbitrary unused port\n",
    "HOST, PORT = \"localhost\", 0\n",
    "\n",
    "server = ThreadedTCPServer((HOST, PORT), ThreadedTCPRequestHandler)\n",
    "ip, port = server.server_address\n",
    "\n",
    "# Start a thread with the server -- that thread will then start one\n",
    "# more thread for each request\n",
    "server_thread = threading.Thread(target=server.serve_forever)\n",
    "# Exit the server thread when the main thread terminates\n",
    "server_thread.daemon = True\n",
    "server_thread.start()\n",
    "print \"Server loop running in thread:\", server_thread.name\n",
    "\n",
    "# client(ip, port, \"Hello World 1\")\n",
    "# client(ip, port, \"Hello World 2\")\n",
    "# client(ip, port, \"Hello World 3\")\n",
    "\n",
    "threading.Thread(target=client, args=[ip, port, \"Hello World 1\"]).start()\n",
    "threading.Thread(target=client, args=[ip, port, \"Hello World 2\"]).start()\n",
    "threading.Thread(target=client, args=[ip, port, \"Hello World 3\"]).start()\n",
    "\n",
    "import time\n",
    "# sleep a little so that all threads are alive\n",
    "time.sleep(30)\n",
    "\n",
    "server.shutdown()\n",
    "server.server_close()"
   ]
  },
  {
   "cell_type": "code",
   "execution_count": null,
   "metadata": {},
   "outputs": [],
   "source": []
  }
 ]
}