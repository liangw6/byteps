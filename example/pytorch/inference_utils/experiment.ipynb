{
 "nbformat": 4,
 "nbformat_minor": 2,
 "metadata": {
  "language_info": {
   "name": "python",
   "codemirror_mode": {
    "name": "ipython",
    "version": 3
   },
   "version": "2.7.12"
  },
  "orig_nbformat": 2,
  "file_extension": ".py",
  "mimetype": "text/x-python",
  "name": "python",
  "npconvert_exporter": "python",
  "pygments_lexer": "ipython3",
  "version": 3
 },
 "cells": [
  {
   "cell_type": "markdown",
   "execution_count": null,
   "metadata": {},
   "outputs": [],
   "source": [
    "# Thread Experiment"
   ]
  },
  {
   "cell_type": "code",
   "execution_count": 8,
   "metadata": {},
   "outputs": [
    {
     "name": "stdout",
     "output_type": "stream",
     "text": "('x =', 10)\n('x =', 10)\n('x =', 10)\n('x =', 5)\n('x =', 5)\n('x =', 5)\n('x =', 5)\n('x =', 5)\n('x =', 5)\n('x =', 5)\n('x =', 5)\n('x =', 5)\n('x =', 5)\n('x =', 5)\n('x =', 5)\n('x =', 5)before changing x to 10\n\nchanged x to 10\n('x =', 10)\n('x =', 10)\n('x =', 10)\n ('x =', 10)\n('x =', 10)\n('x =', 10)\n('x =', 10)\n('x =', 10)\n('x =', 10)('x =', 10)\n\n('x =', 10)\n('x =', 10)\nwaited long enough\n"
    }
   ],
   "source": [
    "import threading\n",
    "import time\n",
    "\n",
    "x = 5\n",
    "\n",
    "def print_x():\n",
    "    while True:\n",
    "        print(\"x =\", x)\n",
    "        time.sleep(1)  # sleep for 1 sec\n",
    "\n",
    "server = threading.Thread(target=print_x)\n",
    "# common error of using server.run will block the main thread\n",
    "server.start()\n",
    "time.sleep(2)\n",
    "print(\"before changing x to 10\")\n",
    "x = 10\n",
    "print(\"changed x to 10\")\n",
    "time.sleep(2)\n",
    "print \"waited long enough\"\n",
    "# should have printed x = 10 before exit\n",
    "# once main thread exits, the child thread should die as well"
   ]
  },
  {
   "cell_type": "code",
   "execution_count": null,
   "metadata": {},
   "outputs": [],
   "source": []
  }
 ]
}